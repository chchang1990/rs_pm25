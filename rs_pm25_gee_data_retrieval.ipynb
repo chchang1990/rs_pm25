{
  "nbformat": 4,
  "nbformat_minor": 0,
  "metadata": {
    "colab": {
      "private_outputs": true,
      "provenance": [],
      "authorship_tag": "ABX9TyNFTtPWtCrpSwT/k+WJTCX8",
      "include_colab_link": true
    },
    "kernelspec": {
      "name": "python3",
      "display_name": "Python 3"
    },
    "language_info": {
      "name": "python"
    }
  },
  "cells": [
    {
      "cell_type": "markdown",
      "metadata": {
        "id": "view-in-github",
        "colab_type": "text"
      },
      "source": [
        "<a href=\"https://colab.research.google.com/github/chchang1990/rs_pm25/blob/dev/rs_pm25_gee_data_retrieval.ipynb\" target=\"_parent\"><img src=\"https://colab.research.google.com/assets/colab-badge.svg\" alt=\"Open In Colab\"/></a>"
      ]
    },
    {
      "cell_type": "markdown",
      "source": [
        "# **Remote sensing application in estimating ground-level PM2.5 concentration**"
      ],
      "metadata": {
        "id": "RgSnaHreIFZ7"
      }
    },
    {
      "cell_type": "markdown",
      "source": [
        "# Package installation and import"
      ],
      "metadata": {
        "id": "8GSXY4EBrFki"
      }
    },
    {
      "cell_type": "code",
      "source": [
        "!pip install earthengine-api \\\n",
        "             geemap \\\n",
        "             xee"
      ],
      "metadata": {
        "id": "uV5YYIzlJBfm"
      },
      "execution_count": null,
      "outputs": []
    },
    {
      "cell_type": "code",
      "execution_count": null,
      "metadata": {
        "id": "r1F27HgzH76X"
      },
      "outputs": [],
      "source": [
        "import ee\n",
        "import geemap\n",
        "\n",
        "import xarray as xr\n",
        "\n",
        "import pandas as pd\n",
        "import numpy as np\n",
        "\n",
        "import matplotlib.pyplot as plt"
      ]
    },
    {
      "cell_type": "code",
      "source": [],
      "metadata": {
        "id": "LoJDgDxBKfXe"
      },
      "execution_count": null,
      "outputs": []
    },
    {
      "cell_type": "markdown",
      "source": [
        "# Authenticate and initialize the Google Earth Engine (GEE) API\n",
        "\n",
        "Note: It requires registrating Google Earth Engine (https://earthengine.google.com/signup/) and enabling it in your Google Cloud Project (https://github.com/googlecolab/colabtools/issues/4228)"
      ],
      "metadata": {
        "id": "bD2YCn2xrJ4s"
      }
    },
    {
      "cell_type": "code",
      "source": [
        "ee.Authenticate()\n",
        "ee.Initialize(project='gcstorage-378004', opt_url='https://earthengine-highvolume.googleapis.com')"
      ],
      "metadata": {
        "id": "rPfOr3OWKfdy"
      },
      "execution_count": null,
      "outputs": []
    },
    {
      "cell_type": "markdown",
      "source": [
        "# Define Area-Of-Interest (AOI) and retrieve data from the GEE"
      ],
      "metadata": {
        "id": "hIer1WUNq5eP"
      }
    },
    {
      "cell_type": "markdown",
      "source": [
        "Define AOI as Harris county, Texas. The shapefile can be obtained from the GEE as well."
      ],
      "metadata": {
        "id": "KkFzWlqLr7lB"
      }
    },
    {
      "cell_type": "code",
      "source": [
        "aoi = (ee.FeatureCollection(\"TIGER/2018/Counties\")\n",
        "       .filter(ee.Filter.eq('NAME', 'Harris'))\n",
        "       .filter(ee.Filter.eq('STATEFP','48'))\n",
        "       # Aparently there are more than one Harris counties in the U.S., hence refine the query to be in Texas\n",
        "       # (The State FIPS code for Texas is 48)\n",
        ").geometry()\n",
        "\n",
        "aoi_lon_lat = np.asarray(aoi.getInfo()['coordinates'][0])\n",
        "#aoi_lon_lat = np.asarray(aoi.getInfo()['features'][0]['geometry']['coordinates'][0]\n",
        "\n",
        "aoi_clon, aoi_clat = np.nanmean(aoi_lon_lat, axis=0)\n",
        "\n",
        "map_aoi = geemap.Map(center=(aoi_clat, aoi_clon), zoom=10)\n",
        "map_aoi.addLayer(aoi)\n",
        "map_aoi\n"
      ],
      "metadata": {
        "id": "E8TZ5ARMq53h"
      },
      "execution_count": null,
      "outputs": []
    },
    {
      "cell_type": "markdown",
      "source": [
        "Data retrieval"
      ],
      "metadata": {
        "id": "ehxMPRkqyuxq"
      }
    },
    {
      "cell_type": "code",
      "source": [
        "def clip_map(img):\n",
        "    return img.clip(aoi)\n",
        "\n",
        "#def scaling_map(img):\n",
        "#    return img.multiply(ee.Image(0.001))"
      ],
      "metadata": {
        "id": "ZOvL-k3cyuR4"
      },
      "execution_count": null,
      "outputs": []
    },
    {
      "cell_type": "code",
      "source": [
        "# ----- MODIS MAIAC AOD product -----\n",
        "leg1 = ee.Geometry.Rectangle(113.33, -43.63, 153.56, -10.66)\n",
        "leg2 = ee.Geometry.Polygon([[[-5, 40], [65, 40], [65, 60], [-5, 60], [-5, 60]]])\n",
        "\n",
        "aod_col = (ee.ImageCollection('MODIS/061/MCD19A2_GRANULES')\n",
        "                     .select('Optical_Depth_055')\n",
        "                     .filterDate('2022-07-10', '2022-07-12')\n",
        ").map(clip_map)\n",
        "# If applying scale here, somehow it will take forever for processing the data after converting it to XARRAY\n",
        "\n"
      ],
      "metadata": {
        "id": "D6EoqeMdLjqa"
      },
      "execution_count": null,
      "outputs": []
    },
    {
      "cell_type": "code",
      "source": [
        "# ----- Visualization color table -----\n",
        "vis_aod = {\n",
        "  'min': 0,\n",
        "  'max': 700, # AOD in Texas is usually from 0.01 to 0.68 (Ghahremanloo et al., 2021)\n",
        "  'palette': ['purple', 'blue', 'cyan', 'green', 'yellow', 'red']\n",
        "};\n",
        "\n",
        "\n",
        "map_vars = geemap.Map(center=(aoi_clat, aoi_clon), zoom=10)\n",
        "map_vars.addLayer(aod_col.max(), vis_aod, 'Example AOD in 2022')\n",
        "map_vars.addLayerControl()\n",
        "map_vars"
      ],
      "metadata": {
        "id": "pZBOgB3uzDCw"
      },
      "execution_count": null,
      "outputs": []
    },
    {
      "cell_type": "markdown",
      "source": [
        "Convert the data from server-side to client side as XARRAY. Data will be clipped to the bounding box that encompasses the pre-defined AOI.\n",
        "\n",
        "It seems like the XEE package doesn't support clipping to irregular shape yet. Will need to clip it with Geopandas after exporting Harris county, TX boundary as .SHP"
      ],
      "metadata": {
        "id": "7S1IOP9SzDhm"
      }
    },
    {
      "cell_type": "code",
      "source": [
        "aod_da = xr.open_dataset(\n",
        "    aod_col,\n",
        "    engine='ee',\n",
        "    projection='EPSG:4326', # Reproject to EPSG:4326 (WGS84 lat, lon)\n",
        "    geometry=aoi,\n",
        "    scale=0.01 # Spatial resolution. Its unit depends on the projection.\n",
        ").transpose('time','lat','lon')['Optical_Depth_055']*0.001 # Get the AOD variable and scale it"
      ],
      "metadata": {
        "id": "3FuDMS0szP_b"
      },
      "execution_count": null,
      "outputs": []
    },
    {
      "cell_type": "code",
      "source": [
        "plt.imshow(aod_da.max(dim='time', skipna=True))\n",
        "plt.colorbar()\n",
        "plt.show()"
      ],
      "metadata": {
        "id": "GDRzLYGMLwl9"
      },
      "execution_count": null,
      "outputs": []
    }
  ]
}